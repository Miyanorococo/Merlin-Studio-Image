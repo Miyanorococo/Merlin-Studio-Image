{
 "cells": [
  {
   "cell_type": "code",
   "execution_count": 3,
   "metadata": {},
   "outputs": [
    {
     "ename": "ModuleNotFoundError",
     "evalue": "No module named 'tensorflow'",
     "output_type": "error",
     "traceback": [
      "\u001b[0;31m---------------------------------------------------------------------------\u001b[0m",
      "\u001b[0;31mModuleNotFoundError\u001b[0m                       Traceback (most recent call last)",
      "\u001b[0;32m/tmp/ipykernel_1131/2700517886.py\u001b[0m in \u001b[0;36m<module>\u001b[0;34m\u001b[0m\n\u001b[0;32m----> 1\u001b[0;31m \u001b[0;32mfrom\u001b[0m \u001b[0mtransformers4rec\u001b[0m \u001b[0;32mimport\u001b[0m \u001b[0mtorch\u001b[0m\u001b[0;34m\u001b[0m\u001b[0;34m\u001b[0m\u001b[0m\n\u001b[0m",
      "\u001b[0;32m/transformers4rec/transformers4rec/torch/__init__.py\u001b[0m in \u001b[0;36m<module>\u001b[0;34m\u001b[0m\n\u001b[1;32m     19\u001b[0m \u001b[0;32mfrom\u001b[0m \u001b[0;34m.\u001b[0m\u001b[0;34m.\u001b[0m\u001b[0mconfig\u001b[0m\u001b[0;34m.\u001b[0m\u001b[0mschema\u001b[0m \u001b[0;32mimport\u001b[0m \u001b[0mrequires_schema\u001b[0m\u001b[0;34m\u001b[0m\u001b[0;34m\u001b[0m\u001b[0m\n\u001b[1;32m     20\u001b[0m \u001b[0;32mfrom\u001b[0m \u001b[0;34m.\u001b[0m\u001b[0;34m.\u001b[0m\u001b[0mconfig\u001b[0m\u001b[0;34m.\u001b[0m\u001b[0mtrainer\u001b[0m \u001b[0;32mimport\u001b[0m \u001b[0mT4RecTrainingArguments\u001b[0m\u001b[0;34m\u001b[0m\u001b[0;34m\u001b[0m\u001b[0m\n\u001b[0;32m---> 21\u001b[0;31m from ..config.transformer import (\n\u001b[0m\u001b[1;32m     22\u001b[0m     \u001b[0mAlbertConfig\u001b[0m\u001b[0;34m,\u001b[0m\u001b[0;34m\u001b[0m\u001b[0;34m\u001b[0m\u001b[0m\n\u001b[1;32m     23\u001b[0m     \u001b[0mElectraConfig\u001b[0m\u001b[0;34m,\u001b[0m\u001b[0;34m\u001b[0m\u001b[0;34m\u001b[0m\u001b[0m\n",
      "\u001b[0;32m/transformers4rec/transformers4rec/config/transformer.py\u001b[0m in \u001b[0;36m<module>\u001b[0;34m\u001b[0m\n\u001b[1;32m     15\u001b[0m \u001b[0;31m#\u001b[0m\u001b[0;34m\u001b[0m\u001b[0;34m\u001b[0m\u001b[0;34m\u001b[0m\u001b[0m\n\u001b[1;32m     16\u001b[0m \u001b[0;34m\u001b[0m\u001b[0m\n\u001b[0;32m---> 17\u001b[0;31m \u001b[0;32mimport\u001b[0m \u001b[0mtensorflow\u001b[0m \u001b[0;32mas\u001b[0m \u001b[0mtf\u001b[0m\u001b[0;34m\u001b[0m\u001b[0;34m\u001b[0m\u001b[0m\n\u001b[0m\u001b[1;32m     18\u001b[0m \u001b[0;32mimport\u001b[0m \u001b[0mtransformers\u001b[0m\u001b[0;34m\u001b[0m\u001b[0;34m\u001b[0m\u001b[0m\n\u001b[1;32m     19\u001b[0m \u001b[0;34m\u001b[0m\u001b[0m\n",
      "\u001b[0;31mModuleNotFoundError\u001b[0m: No module named 'tensorflow'"
     ]
    }
   ],
   "source": [
    "from transformers4rec import torch"
   ]
  },
  {
   "cell_type": "code",
   "execution_count": 4,
   "metadata": {},
   "outputs": [
    {
     "name": "stdout",
     "output_type": "stream",
     "text": [
      "transformers4rec          0.1.3                     dev_0    <develop>\n"
     ]
    }
   ],
   "source": [
    "!conda list | grep transformers4rec"
   ]
  },
  {
   "cell_type": "code",
   "execution_count": 5,
   "metadata": {},
   "outputs": [
    {
     "name": "stdout",
     "output_type": "stream",
     "text": [
      "# conda environments:\n",
      "#\n",
      "base                  *  /opt/conda\n",
      "\n"
     ]
    }
   ],
   "source": [
    "!conda env list"
   ]
  },
  {
   "cell_type": "code",
   "execution_count": 6,
   "metadata": {},
   "outputs": [
    {
     "name": "stdout",
     "output_type": "stream",
     "text": [
      "USER       PID %CPU %MEM    VSZ   RSS TTY      STAT START   TIME COMMAND\n",
      "root         1  0.0  0.0   5728  3532 ?        Ss   Jan02   0:00 /bin/bash /opt/.sagemakerinternal/conda/kgw_variant\n",
      "root        15  0.0  2.4 987884 96212 ?        Sl   Jan02   1:05 /opt/.sagemakerinternal/conda/bin/python /opt/.sagemakerinternal/conda/bin/jupyter-kernelgateway --ip 0.0.0.0 --port 8888 --JupyterWebsocketPersonality.list_kernels=True --KernelSpecManager.ensure_native_kernel=False --MultiKernelManager.default_kernel_name= --KernelGatewayApp.kernel_spec_manager_class=nb_conda_kernels.CondaKernelSpecManager --CondaKernelSpecManager.env_filter=/opt/conda$\n",
      "root       435  0.0  0.1   9820  7640 pts/0    Ss+  Jan02   0:00  \\_ /bin/bash -l\n",
      "root       843  0.0  1.4 773800 59268 ?        Ssl  Jan02   0:09  \\_ /opt/conda/bin/python -m ipykernel_launcher -f /root/.local/share/jupyter/runtime/kernel-f3c40d05-a640-49e2-951a-28b1cc02c320.json\n",
      "root      1131  0.0  7.1 4007060 285760 ?      Ssl  Jan02   0:10  \\_ /opt/conda/bin/python -m ipykernel_launcher -f /root/.local/share/jupyter/runtime/kernel-259ac601-7bac-460b-b0b7-eff73780a839.json\n",
      "root      1250  0.0  0.0   7652  3244 pts/1    Rs+  00:19   0:00      \\_ ps auxwwf\n"
     ]
    }
   ],
   "source": [
    "!ps auxwwf"
   ]
  },
  {
   "cell_type": "code",
   "execution_count": 7,
   "metadata": {},
   "outputs": [
    {
     "name": "stdout",
     "output_type": "stream",
     "text": [
      "WARNING conda.gateways.disk.delete:unlink_or_rename_to_trash(144): Could not remove or rename /opt/.sagemakerinternal/conda/conda-meta/requests-2.21.0-py37_0.json.  Please remove this file manually (you may need to reboot to free file handles)\n"
     ]
    }
   ],
   "source": [
    "!/opt/.sagemakerinternal/conda/bin/conda list | grep transformers4rec"
   ]
  },
  {
   "cell_type": "code",
   "execution_count": 8,
   "metadata": {},
   "outputs": [
    {
     "name": "stdout",
     "output_type": "stream",
     "text": [
      "# conda environments:\n",
      "#\n",
      "base                  *  /opt/.sagemakerinternal/conda\n",
      "                         /opt/conda\n",
      "\n"
     ]
    }
   ],
   "source": [
    "!/opt/.sagemakerinternal/conda/bin/conda env list"
   ]
  },
  {
   "cell_type": "code",
   "execution_count": 9,
   "metadata": {},
   "outputs": [
    {
     "name": "stdout",
     "output_type": "stream",
     "text": [
      "# conda environments:\n",
      "#\n",
      "base                  *  /opt/conda\n",
      "\n"
     ]
    }
   ],
   "source": [
    "!conda env list"
   ]
  },
  {
   "cell_type": "code",
   "execution_count": null,
   "metadata": {},
   "outputs": [
    {
     "name": "stdout",
     "output_type": "stream",
     "text": [
      "Collecting package metadata (current_repodata.json): done\n",
      "Solving environment: | \n",
      "The environment is inconsistent, please check the package plan carefully\n",
      "The following packages are causing the inconsistency:\n",
      "\n",
      "  - conda-forge/linux-64::cython-blis==0.7.5=py38h6c62de6_1\n",
      "  - conda-forge/linux-64::scipy==1.6.3=py38h7b17777_0\n",
      "  - conda-forge/linux-64::spacy==3.2.0=py38h2b96118_0\n",
      "  - conda-forge/linux-64::thinc==8.0.12=py38h2b96118_0\n",
      "failed with initial frozen solve. Retrying with flexible solve.\n",
      "Solving environment: failed with repodata from current_repodata.json, will retry with next repodata source.\n",
      "Collecting package metadata (repodata.json): done\n",
      "Solving environment: - \n",
      "The environment is inconsistent, please check the package plan carefully\n",
      "The following packages are causing the inconsistency:\n",
      "\n",
      "  - conda-forge/linux-64::cython-blis==0.7.5=py38h6c62de6_1\n",
      "  - conda-forge/linux-64::scipy==1.6.3=py38h7b17777_0\n",
      "  - conda-forge/linux-64::spacy==3.2.0=py38h2b96118_0\n",
      "  - conda-forge/linux-64::thinc==8.0.12=py38h2b96118_0\n",
      "done\n",
      "\n",
      "## Package Plan ##\n",
      "\n",
      "  environment location: /opt/conda\n",
      "\n",
      "  added / updated specs:\n",
      "    - tensorflow\n",
      "\n",
      "\n",
      "The following packages will be downloaded:\n",
      "\n",
      "    package                    |            build\n",
      "    ---------------------------|-----------------\n",
      "    abseil-cpp-20200923.3      |       h9c3ff4c_0         955 KB  conda-forge\n",
      "    absl-py-1.0.0              |     pyhd8ed1ab_0          95 KB  conda-forge\n",
      "    aiohttp-3.8.1              |   py38h497a2fe_0         571 KB  conda-forge\n",
      "    aiosignal-1.2.0            |     pyhd8ed1ab_0          12 KB  conda-forge\n",
      "    astor-0.8.1                |     pyh9f0ad1d_0          25 KB  conda-forge\n",
      "    astunparse-1.6.3           |     pyhd8ed1ab_0          15 KB  conda-forge\n",
      "    async-timeout-4.0.2        |     pyhd8ed1ab_0           9 KB  conda-forge\n",
      "    attrs-21.4.0               |     pyhd8ed1ab_0          49 KB  conda-forge\n",
      "    blinker-1.4                |             py_1          13 KB  conda-forge\n",
      "    cachetools-4.2.4           |     pyhd8ed1ab_0          12 KB  conda-forge\n",
      "    conda-4.11.0               |   py38h578d9bd_0        16.9 MB  conda-forge\n",
      "    frozenlist-1.2.0           |   py38h497a2fe_1          80 KB  conda-forge\n",
      "    gast-0.3.3                 |             py_0          12 KB  conda-forge\n",
      "    giflib-5.2.1               |       h36c2ea0_2          77 KB  conda-forge\n",
      "    google-auth-1.35.0         |     pyh6c4a22f_0          81 KB  conda-forge\n",
      "    google-auth-oauthlib-0.4.6 |     pyhd8ed1ab_0          19 KB  conda-forge\n",
      "    google-pasta-0.2.0         |     pyh8c360ce_0          42 KB  conda-forge\n",
      "    grpc-cpp-1.36.4            |       hf89561c_1         3.4 MB  conda-forge\n",
      "    grpcio-1.36.1              |   py38hdd6454d_0         2.1 MB  conda-forge\n",
      "    h5py-2.10.0                |nompi_py38h9915d05_106         1.1 MB  conda-forge\n",
      "    hdf5-1.10.6                |nompi_h6a2412b_1114         3.1 MB  conda-forge\n",
      "    importlib-metadata-4.10.0  |   py38h578d9bd_0          33 KB  conda-forge\n",
      "    jpeg-9d                    |       h36c2ea0_0         264 KB  conda-forge\n",
      "    keras-preprocessing-1.1.2  |     pyhd8ed1ab_0          34 KB  conda-forge\n",
      "    libpng-1.6.37              |       h21135ba_2         306 KB  conda-forge\n",
      "    libprotobuf-3.15.8         |       h780b84a_1         2.5 MB  conda-forge\n",
      "    markdown-3.3.6             |     pyhd8ed1ab_0          67 KB  conda-forge\n",
      "    multidict-5.2.0            |   py38h497a2fe_1          64 KB  conda-forge\n",
      "    numpy-1.22.0               |   py38h6ae9a64_0         6.9 MB  conda-forge\n",
      "    oauthlib-3.1.1             |     pyhd8ed1ab_0          87 KB  conda-forge\n",
      "    opt_einsum-3.3.0           |     pyhd8ed1ab_1          53 KB  conda-forge\n",
      "    protobuf-3.15.8            |   py38h709712a_0         341 KB  conda-forge\n",
      "    pyasn1-0.4.8               |             py_0          53 KB  conda-forge\n",
      "    pyasn1-modules-0.2.7       |             py_0          60 KB  conda-forge\n",
      "    pyjwt-2.3.0                |     pyhd8ed1ab_1          18 KB  conda-forge\n",
      "    python-flatbuffers-1.12    |     pyhd8ed1ab_1          19 KB  conda-forge\n",
      "    pyu2f-0.1.5                |     pyhd8ed1ab_0          31 KB  conda-forge\n",
      "    re2-2021.04.01             |       h9c3ff4c_0         218 KB  conda-forge\n",
      "    requests-oauthlib-1.3.0    |     pyh9f0ad1d_0          21 KB  conda-forge\n",
      "    rsa-4.8                    |     pyhd8ed1ab_0          31 KB  conda-forge\n",
      "    snappy-1.1.8               |       he1b5a44_3          32 KB  conda-forge\n",
      "    tensorboard-2.4.1          |     pyhd8ed1ab_1         8.8 MB  conda-forge\n",
      "    tensorboard-plugin-wit-1.8.0|     pyh44b312d_0         670 KB  conda-forge\n",
      "    tensorflow-2.4.0           |   py38h578d9bd_0          25 KB  conda-forge\n",
      "    tensorflow-base-2.4.0      |   py38h01d9eeb_0        93.1 MB  conda-forge\n",
      "    tensorflow-estimator-2.4.0 |     pyh9656e83_0         289 KB  conda-forge\n",
      "    termcolor-1.1.0            |             py_2           6 KB  conda-forge\n",
      "    werkzeug-2.0.1             |     pyhd8ed1ab_0         219 KB  conda-forge\n",
      "    wrapt-1.13.3               |   py38h497a2fe_1          49 KB  conda-forge\n",
      "    yarl-1.7.2                 |   py38h497a2fe_1         138 KB  conda-forge\n",
      "    zipp-3.6.0                 |     pyhd8ed1ab_0          12 KB  conda-forge\n",
      "    ------------------------------------------------------------\n",
      "                                           Total:       143.0 MB\n",
      "\n",
      "The following NEW packages will be INSTALLED:\n",
      "\n",
      "  abseil-cpp         conda-forge/linux-64::abseil-cpp-20200923.3-h9c3ff4c_0\n",
      "  absl-py            conda-forge/noarch::absl-py-1.0.0-pyhd8ed1ab_0\n",
      "  aiohttp            conda-forge/linux-64::aiohttp-3.8.1-py38h497a2fe_0\n",
      "  aiosignal          conda-forge/noarch::aiosignal-1.2.0-pyhd8ed1ab_0\n",
      "  astor              conda-forge/noarch::astor-0.8.1-pyh9f0ad1d_0\n",
      "  astunparse         conda-forge/noarch::astunparse-1.6.3-pyhd8ed1ab_0\n",
      "  async-timeout      conda-forge/noarch::async-timeout-4.0.2-pyhd8ed1ab_0\n",
      "  attrs              conda-forge/noarch::attrs-21.4.0-pyhd8ed1ab_0\n",
      "  blinker            conda-forge/noarch::blinker-1.4-py_1\n",
      "  cachetools         conda-forge/noarch::cachetools-4.2.4-pyhd8ed1ab_0\n",
      "  frozenlist         conda-forge/linux-64::frozenlist-1.2.0-py38h497a2fe_1\n",
      "  gast               conda-forge/noarch::gast-0.3.3-py_0\n",
      "  giflib             conda-forge/linux-64::giflib-5.2.1-h36c2ea0_2\n",
      "  google-auth        conda-forge/noarch::google-auth-1.35.0-pyh6c4a22f_0\n",
      "  google-auth-oauth~ conda-forge/noarch::google-auth-oauthlib-0.4.6-pyhd8ed1ab_0\n",
      "  google-pasta       conda-forge/noarch::google-pasta-0.2.0-pyh8c360ce_0\n",
      "  grpc-cpp           conda-forge/linux-64::grpc-cpp-1.36.4-hf89561c_1\n",
      "  grpcio             conda-forge/linux-64::grpcio-1.36.1-py38hdd6454d_0\n",
      "  h5py               conda-forge/linux-64::h5py-2.10.0-nompi_py38h9915d05_106\n",
      "  hdf5               conda-forge/linux-64::hdf5-1.10.6-nompi_h6a2412b_1114\n",
      "  importlib-metadata conda-forge/linux-64::importlib-metadata-4.10.0-py38h578d9bd_0\n",
      "  jpeg               conda-forge/linux-64::jpeg-9d-h36c2ea0_0\n",
      "  keras-preprocessi~ conda-forge/noarch::keras-preprocessing-1.1.2-pyhd8ed1ab_0\n",
      "  libpng             conda-forge/linux-64::libpng-1.6.37-h21135ba_2\n",
      "  libprotobuf        conda-forge/linux-64::libprotobuf-3.15.8-h780b84a_1\n",
      "  markdown           conda-forge/noarch::markdown-3.3.6-pyhd8ed1ab_0\n",
      "  multidict          conda-forge/linux-64::multidict-5.2.0-py38h497a2fe_1\n",
      "  numpy              conda-forge/linux-64::numpy-1.22.0-py38h6ae9a64_0\n",
      "  oauthlib           conda-forge/noarch::oauthlib-3.1.1-pyhd8ed1ab_0\n",
      "  opt_einsum         conda-forge/noarch::opt_einsum-3.3.0-pyhd8ed1ab_1\n",
      "  protobuf           conda-forge/linux-64::protobuf-3.15.8-py38h709712a_0\n",
      "  pyasn1             conda-forge/noarch::pyasn1-0.4.8-py_0\n",
      "  pyasn1-modules     conda-forge/noarch::pyasn1-modules-0.2.7-py_0\n",
      "  pyjwt              conda-forge/noarch::pyjwt-2.3.0-pyhd8ed1ab_1\n",
      "  python-flatbuffers conda-forge/noarch::python-flatbuffers-1.12-pyhd8ed1ab_1\n",
      "  pyu2f              conda-forge/noarch::pyu2f-0.1.5-pyhd8ed1ab_0\n",
      "  re2                conda-forge/linux-64::re2-2021.04.01-h9c3ff4c_0\n",
      "  requests-oauthlib  conda-forge/noarch::requests-oauthlib-1.3.0-pyh9f0ad1d_0\n",
      "  rsa                conda-forge/noarch::rsa-4.8-pyhd8ed1ab_0\n",
      "  snappy             conda-forge/linux-64::snappy-1.1.8-he1b5a44_3\n",
      "  tensorboard        conda-forge/noarch::tensorboard-2.4.1-pyhd8ed1ab_1\n",
      "  tensorboard-plugi~ conda-forge/noarch::tensorboard-plugin-wit-1.8.0-pyh44b312d_0\n",
      "  tensorflow         conda-forge/linux-64::tensorflow-2.4.0-py38h578d9bd_0\n",
      "  tensorflow-base    conda-forge/linux-64::tensorflow-base-2.4.0-py38h01d9eeb_0\n",
      "  tensorflow-estima~ conda-forge/noarch::tensorflow-estimator-2.4.0-pyh9656e83_0\n",
      "  termcolor          conda-forge/noarch::termcolor-1.1.0-py_2\n",
      "  werkzeug           conda-forge/noarch::werkzeug-2.0.1-pyhd8ed1ab_0\n",
      "  wrapt              conda-forge/linux-64::wrapt-1.13.3-py38h497a2fe_1\n",
      "  yarl               conda-forge/linux-64::yarl-1.7.2-py38h497a2fe_1\n",
      "  zipp               conda-forge/noarch::zipp-3.6.0-pyhd8ed1ab_0\n",
      "\n",
      "The following packages will be UPDATED:\n",
      "\n",
      "  conda                               4.10.3-py38h578d9bd_3 --> 4.11.0-py38h578d9bd_0\n",
      "\n",
      "\n",
      "\n",
      "Downloading and Extracting Packages\n",
      "cachetools-4.2.4     | 12 KB     | ##################################### | 100% \n",
      "pyasn1-0.4.8         | 53 KB     | ##################################### | 100% \n",
      "frozenlist-1.2.0     | 80 KB     | ##################################### | 100% \n",
      "numpy-1.22.0         | 6.9 MB    | ##################################### | 100% \n",
      "wrapt-1.13.3         | 49 KB     | ##################################### | 100% \n",
      "tensorboard-2.4.1    | 8.8 MB    | ##################################### | 100% \n",
      "abseil-cpp-20200923. | 955 KB    | ##################################### | 100% \n",
      "jpeg-9d              | 264 KB    | ##################################### | 100% \n",
      "snappy-1.1.8         | 32 KB     | ##################################### | 100% \n",
      "attrs-21.4.0         | 49 KB     | ##################################### | 100% \n",
      "protobuf-3.15.8      | 341 KB    | ##################################### | 100% \n",
      "pyasn1-modules-0.2.7 | 60 KB     | ##################################### | 100% \n",
      "requests-oauthlib-1. | 21 KB     | ##################################### | 100% \n",
      "werkzeug-2.0.1       | 219 KB    | ##################################### | 100% \n",
      "tensorflow-estimator | 289 KB    | ##################################### | 100% \n",
      "google-pasta-0.2.0   | 42 KB     | ##################################### | 100% \n",
      "tensorflow-2.4.0     | 25 KB     | ##################################### | 100% \n",
      "absl-py-1.0.0        | 95 KB     | ##################################### | 100% \n",
      "libpng-1.6.37        | 306 KB    | ##################################### | 100% \n",
      "astor-0.8.1          | 25 KB     | ##################################### | 100% \n",
      "rsa-4.8              | 31 KB     | ##################################### | 100% \n",
      "opt_einsum-3.3.0     | 53 KB     | ##################################### | 100% \n",
      "oauthlib-3.1.1       | 87 KB     | ##################################### | 100% \n",
      "conda-4.11.0         | 16.9 MB   | ##################################### | 100% \n",
      "markdown-3.3.6       | 67 KB     | ##################################### | 100% \n",
      "grpcio-1.36.1        | 2.1 MB    | ##################################### | 100% \n",
      "async-timeout-4.0.2  | 9 KB      | ##################################### | 100% \n",
      "blinker-1.4          | 13 KB     | ##################################### | 100% \n",
      "importlib-metadata-4 | 33 KB     | ##################################### | 100% \n",
      "aiohttp-3.8.1        | 571 KB    | ##################################### | 100% \n",
      "gast-0.3.3           | 12 KB     | ##################################### | 100% \n",
      "python-flatbuffers-1 | 19 KB     | ##################################### | 100% \n",
      "grpc-cpp-1.36.4      | 3.4 MB    | ##################################### | 100% \n",
      "libprotobuf-3.15.8   | 2.5 MB    | ##################################### | 100% \n",
      "tensorboard-plugin-w | 670 KB    | ##################################### | 100% \n",
      "termcolor-1.1.0      | 6 KB      | ##################################### | 100% \n",
      "tensorflow-base-2.4. | 93.1 MB   | ##################################### | 100% \n",
      "pyu2f-0.1.5          | 31 KB     | ##################################### | 100% \n",
      "pyjwt-2.3.0          | 18 KB     | ##################################### | 100% \n",
      "yarl-1.7.2           | 138 KB    | ##################################### | 100% \n",
      "re2-2021.04.01       | 218 KB    | ##################################### | 100% \n",
      "multidict-5.2.0      | 64 KB     | ##################################### | 100% \n",
      "hdf5-1.10.6          | 3.1 MB    | ##################################### | 100% \n",
      "zipp-3.6.0           | 12 KB     | ##################################### | 100% \n",
      "astunparse-1.6.3     | 15 KB     | ##################################### | 100% \n",
      "google-auth-1.35.0   | 81 KB     | ##################################### | 100% \n",
      "aiosignal-1.2.0      | 12 KB     | ##################################### | 100% \n",
      "h5py-2.10.0          | 1.1 MB    | ##################################### | 100% \n",
      "keras-preprocessing- | 34 KB     | ##################################### | 100% \n",
      "giflib-5.2.1         | 77 KB     | ##################################### | 100% \n",
      "google-auth-oauthlib | 19 KB     | ##################################### | 100% \n",
      "Preparing transaction: done\n",
      "Verifying transaction: done\n",
      "Executing transaction: \\ "
     ]
    }
   ],
   "source": [
    "!conda install tensorflow -y"
   ]
  },
  {
   "cell_type": "code",
   "execution_count": 1,
   "metadata": {},
   "outputs": [
    {
     "ename": "ModuleNotFoundError",
     "evalue": "No module named 'tensorflow'",
     "output_type": "error",
     "traceback": [
      "\u001b[0;31m---------------------------------------------------------------------------\u001b[0m",
      "\u001b[0;31mModuleNotFoundError\u001b[0m                       Traceback (most recent call last)",
      "\u001b[0;32m/tmp/ipykernel_2134/2700517886.py\u001b[0m in \u001b[0;36m<module>\u001b[0;34m\u001b[0m\n\u001b[0;32m----> 1\u001b[0;31m \u001b[0;32mfrom\u001b[0m \u001b[0mtransformers4rec\u001b[0m \u001b[0;32mimport\u001b[0m \u001b[0mtorch\u001b[0m\u001b[0;34m\u001b[0m\u001b[0;34m\u001b[0m\u001b[0m\n\u001b[0m",
      "\u001b[0;32m/transformers4rec/transformers4rec/torch/__init__.py\u001b[0m in \u001b[0;36m<module>\u001b[0;34m\u001b[0m\n\u001b[1;32m     19\u001b[0m \u001b[0;32mfrom\u001b[0m \u001b[0;34m.\u001b[0m\u001b[0;34m.\u001b[0m\u001b[0mconfig\u001b[0m\u001b[0;34m.\u001b[0m\u001b[0mschema\u001b[0m \u001b[0;32mimport\u001b[0m \u001b[0mrequires_schema\u001b[0m\u001b[0;34m\u001b[0m\u001b[0;34m\u001b[0m\u001b[0m\n\u001b[1;32m     20\u001b[0m \u001b[0;32mfrom\u001b[0m \u001b[0;34m.\u001b[0m\u001b[0;34m.\u001b[0m\u001b[0mconfig\u001b[0m\u001b[0;34m.\u001b[0m\u001b[0mtrainer\u001b[0m \u001b[0;32mimport\u001b[0m \u001b[0mT4RecTrainingArguments\u001b[0m\u001b[0;34m\u001b[0m\u001b[0;34m\u001b[0m\u001b[0m\n\u001b[0;32m---> 21\u001b[0;31m from ..config.transformer import (\n\u001b[0m\u001b[1;32m     22\u001b[0m     \u001b[0mAlbertConfig\u001b[0m\u001b[0;34m,\u001b[0m\u001b[0;34m\u001b[0m\u001b[0;34m\u001b[0m\u001b[0m\n\u001b[1;32m     23\u001b[0m     \u001b[0mElectraConfig\u001b[0m\u001b[0;34m,\u001b[0m\u001b[0;34m\u001b[0m\u001b[0;34m\u001b[0m\u001b[0m\n",
      "\u001b[0;32m/transformers4rec/transformers4rec/config/transformer.py\u001b[0m in \u001b[0;36m<module>\u001b[0;34m\u001b[0m\n\u001b[1;32m     15\u001b[0m \u001b[0;31m#\u001b[0m\u001b[0;34m\u001b[0m\u001b[0;34m\u001b[0m\u001b[0;34m\u001b[0m\u001b[0m\n\u001b[1;32m     16\u001b[0m \u001b[0;34m\u001b[0m\u001b[0m\n\u001b[0;32m---> 17\u001b[0;31m \u001b[0;32mimport\u001b[0m \u001b[0mtensorflow\u001b[0m \u001b[0;32mas\u001b[0m \u001b[0mtf\u001b[0m\u001b[0;34m\u001b[0m\u001b[0;34m\u001b[0m\u001b[0m\n\u001b[0m\u001b[1;32m     18\u001b[0m \u001b[0;32mimport\u001b[0m \u001b[0mtransformers\u001b[0m\u001b[0;34m\u001b[0m\u001b[0;34m\u001b[0m\u001b[0m\n\u001b[1;32m     19\u001b[0m \u001b[0;34m\u001b[0m\u001b[0m\n",
      "\u001b[0;31mModuleNotFoundError\u001b[0m: No module named 'tensorflow'"
     ]
    }
   ],
   "source": [
    "from transformers4rec import torch"
   ]
  },
  {
   "cell_type": "code",
   "execution_count": null,
   "metadata": {},
   "outputs": [],
   "source": []
  }
 ],
 "metadata": {
  "instance_type": "ml.t3.medium",
  "kernelspec": {
   "display_name": "Python 3 (merlin2109torch/1)",
   "language": "python",
   "name": "python3__SAGEMAKER_INTERNAL__arn:aws:sagemaker:ap-northeast-2:028395298019:image-version/merlin2109torch/1"
  },
  "language_info": {
   "codemirror_mode": {
    "name": "ipython",
    "version": 3
   },
   "file_extension": ".py",
   "mimetype": "text/x-python",
   "name": "python",
   "nbconvert_exporter": "python",
   "pygments_lexer": "ipython3",
   "version": "3.8.12"
  }
 },
 "nbformat": 4,
 "nbformat_minor": 4
}
